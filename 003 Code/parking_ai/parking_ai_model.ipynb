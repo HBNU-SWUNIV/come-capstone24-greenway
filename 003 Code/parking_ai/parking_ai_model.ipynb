{
 "cells": [
  {
   "cell_type": "code",
   "execution_count": 67,
   "metadata": {},
   "outputs": [],
   "source": [
    "import os\n",
    "import numpy as np\n",
    "import pandas as pd\n",
    "from sklearn.preprocessing import MinMaxScaler, OneHotEncoder\n",
    "from xgboost import XGBClassifier\n",
    "from sklearn.compose import ColumnTransformer\n",
    "from sklearn.model_selection import train_test_split\n",
    "from sklearn.metrics import accuracy_score, classification_report\n",
    "import joblib  # 모델 저장을 위한 joblib\n",
    "import json  # JSON 파일 저장을 위한 json 모듈\n",
    "import onnxmltools\n",
    "from onnxconverter_common import FloatTensorType"
   ]
  },
  {
   "cell_type": "code",
   "execution_count": 68,
   "metadata": {},
   "outputs": [],
   "source": [
    "# CSV 파일이 저장된 폴더 경로\n",
    "folder_path = 'C:/Users/insang/chaewon/data'"
   ]
  },
  {
   "cell_type": "code",
   "execution_count": 69,
   "metadata": {},
   "outputs": [],
   "source": [
    "# 폴더 내 모든 CSV 파일 불러오기\n",
    "all_files = [os.path.join(folder_path, f) for f in os.listdir(folder_path) if f.endswith('.csv')]"
   ]
  },
  {
   "cell_type": "code",
   "execution_count": 70,
   "metadata": {},
   "outputs": [],
   "source": [
    "# 모든 CSV 파일을 하나의 DataFrame으로 합치기\n",
    "data_frames = [pd.read_csv(f) for f in all_files]\n",
    "data = pd.concat(data_frames, ignore_index=True)"
   ]
  },
  {
   "cell_type": "code",
   "execution_count": 71,
   "metadata": {},
   "outputs": [
    {
     "name": "stdout",
     "output_type": "stream",
     "text": [
      "총 데이터 개수: 603856\n"
     ]
    }
   ],
   "source": [
    "# 데이터 개수 확인\n",
    "print(f\"총 데이터 개수: {len(data)}\")"
   ]
  },
  {
   "cell_type": "code",
   "execution_count": 72,
   "metadata": {},
   "outputs": [
    {
     "name": "stdout",
     "output_type": "stream",
     "text": [
      "             PKLT_NM  TPKCT  NOW_PRK_VHCL_CNT            timestamp   weekday\n",
      "0  구로디지털단지역 공영주차장(시)     91                55  2024-09-12 21:50:02  Thursday\n",
      "1  구로디지털단지역 공영주차장(시)     91                53  2024-09-12 22:00:08  Thursday\n",
      "2  구로디지털단지역 공영주차장(시)     91                51  2024-09-12 22:10:02  Thursday\n",
      "3  구로디지털단지역 공영주차장(시)     91                47  2024-09-12 22:20:02  Thursday\n",
      "4  구로디지털단지역 공영주차장(시)     91                48  2024-09-12 22:30:02  Thursday\n"
     ]
    }
   ],
   "source": [
    "# 주차장명, timestamp, 요일 등을 포함한 데이터 확인\n",
    "print(data.head())"
   ]
  },
  {
   "cell_type": "code",
   "execution_count": 73,
   "metadata": {},
   "outputs": [],
   "source": [
    "# 1. 혼잡도 레이블 생성 (여유: 0, 보통: 1, 혼잡: 2)\n",
    "def create_congestion_label(row):\n",
    "    utilization = row['NOW_PRK_VHCL_CNT'] / row['TPKCT']\n",
    "    if utilization < 0.5:\n",
    "        return 0  # 여유\n",
    "    elif utilization < 0.8:\n",
    "        return 1  # 보통\n",
    "    else:\n",
    "        return 2  # 혼잡"
   ]
  },
  {
   "cell_type": "code",
   "execution_count": 74,
   "metadata": {},
   "outputs": [],
   "source": [
    "data['congestion'] = data.apply(create_congestion_label, axis=1)"
   ]
  },
  {
   "cell_type": "code",
   "execution_count": 75,
   "metadata": {},
   "outputs": [],
   "source": [
    "# 2. One-Hot Encoding for PKLT_NM and weekday\n",
    "onehot = ColumnTransformer(\n",
    "    transformers=[\n",
    "        ('parking_name', OneHotEncoder(), ['PKLT_NM']),\n",
    "        ('weekday', OneHotEncoder(), ['weekday'])\n",
    "    ],\n",
    "    remainder='passthrough'  # 나머지 컬럼은 그대로 유지\n",
    ")"
   ]
  },
  {
   "cell_type": "code",
   "execution_count": 76,
   "metadata": {},
   "outputs": [],
   "source": [
    "# 시간 정보 추가 (시간과 분까지 사용)\n",
    "data['hour'] = pd.to_datetime(data['timestamp']).dt.hour\n",
    "data['minute'] = pd.to_datetime(data['timestamp']).dt.minute"
   ]
  },
  {
   "cell_type": "code",
   "execution_count": 77,
   "metadata": {},
   "outputs": [],
   "source": [
    "# 필요한 컬럼만 선택\n",
    "features = ['PKLT_NM', 'weekday', 'hour', 'minute']\n",
    "target = 'congestion'"
   ]
  },
  {
   "cell_type": "code",
   "execution_count": 78,
   "metadata": {},
   "outputs": [],
   "source": [
    "# 3. One-Hot Encoding과 정규화를 동시에 적용하고 sparse matrix를 dense로 변환\n",
    "data_encoded = onehot.fit_transform(data[features]).toarray()  # One-hot encoding\n",
    "scaler = MinMaxScaler()\n",
    "data_encoded_scaled = scaler.fit_transform(data_encoded)  # 정규화"
   ]
  },
  {
   "cell_type": "code",
   "execution_count": 79,
   "metadata": {},
   "outputs": [],
   "source": [
    "# 4. XGBClassifier 모델 사용\n",
    "X = data_encoded_scaled\n",
    "y = data[target].values"
   ]
  },
  {
   "cell_type": "code",
   "execution_count": 80,
   "metadata": {},
   "outputs": [],
   "source": [
    "# Train/Test Split\n",
    "X_train, X_test, y_train, y_test = train_test_split(X, y, test_size=0.2, shuffle=True)"
   ]
  },
  {
   "cell_type": "code",
   "execution_count": 81,
   "metadata": {},
   "outputs": [
    {
     "data": {
      "text/html": [
       "<style>#sk-container-id-3 {\n",
       "  /* Definition of color scheme common for light and dark mode */\n",
       "  --sklearn-color-text: black;\n",
       "  --sklearn-color-line: gray;\n",
       "  /* Definition of color scheme for unfitted estimators */\n",
       "  --sklearn-color-unfitted-level-0: #fff5e6;\n",
       "  --sklearn-color-unfitted-level-1: #f6e4d2;\n",
       "  --sklearn-color-unfitted-level-2: #ffe0b3;\n",
       "  --sklearn-color-unfitted-level-3: chocolate;\n",
       "  /* Definition of color scheme for fitted estimators */\n",
       "  --sklearn-color-fitted-level-0: #f0f8ff;\n",
       "  --sklearn-color-fitted-level-1: #d4ebff;\n",
       "  --sklearn-color-fitted-level-2: #b3dbfd;\n",
       "  --sklearn-color-fitted-level-3: cornflowerblue;\n",
       "\n",
       "  /* Specific color for light theme */\n",
       "  --sklearn-color-text-on-default-background: var(--sg-text-color, var(--theme-code-foreground, var(--jp-content-font-color1, black)));\n",
       "  --sklearn-color-background: var(--sg-background-color, var(--theme-background, var(--jp-layout-color0, white)));\n",
       "  --sklearn-color-border-box: var(--sg-text-color, var(--theme-code-foreground, var(--jp-content-font-color1, black)));\n",
       "  --sklearn-color-icon: #696969;\n",
       "\n",
       "  @media (prefers-color-scheme: dark) {\n",
       "    /* Redefinition of color scheme for dark theme */\n",
       "    --sklearn-color-text-on-default-background: var(--sg-text-color, var(--theme-code-foreground, var(--jp-content-font-color1, white)));\n",
       "    --sklearn-color-background: var(--sg-background-color, var(--theme-background, var(--jp-layout-color0, #111)));\n",
       "    --sklearn-color-border-box: var(--sg-text-color, var(--theme-code-foreground, var(--jp-content-font-color1, white)));\n",
       "    --sklearn-color-icon: #878787;\n",
       "  }\n",
       "}\n",
       "\n",
       "#sk-container-id-3 {\n",
       "  color: var(--sklearn-color-text);\n",
       "}\n",
       "\n",
       "#sk-container-id-3 pre {\n",
       "  padding: 0;\n",
       "}\n",
       "\n",
       "#sk-container-id-3 input.sk-hidden--visually {\n",
       "  border: 0;\n",
       "  clip: rect(1px 1px 1px 1px);\n",
       "  clip: rect(1px, 1px, 1px, 1px);\n",
       "  height: 1px;\n",
       "  margin: -1px;\n",
       "  overflow: hidden;\n",
       "  padding: 0;\n",
       "  position: absolute;\n",
       "  width: 1px;\n",
       "}\n",
       "\n",
       "#sk-container-id-3 div.sk-dashed-wrapped {\n",
       "  border: 1px dashed var(--sklearn-color-line);\n",
       "  margin: 0 0.4em 0.5em 0.4em;\n",
       "  box-sizing: border-box;\n",
       "  padding-bottom: 0.4em;\n",
       "  background-color: var(--sklearn-color-background);\n",
       "}\n",
       "\n",
       "#sk-container-id-3 div.sk-container {\n",
       "  /* jupyter's `normalize.less` sets `[hidden] { display: none; }`\n",
       "     but bootstrap.min.css set `[hidden] { display: none !important; }`\n",
       "     so we also need the `!important` here to be able to override the\n",
       "     default hidden behavior on the sphinx rendered scikit-learn.org.\n",
       "     See: https://github.com/scikit-learn/scikit-learn/issues/21755 */\n",
       "  display: inline-block !important;\n",
       "  position: relative;\n",
       "}\n",
       "\n",
       "#sk-container-id-3 div.sk-text-repr-fallback {\n",
       "  display: none;\n",
       "}\n",
       "\n",
       "div.sk-parallel-item,\n",
       "div.sk-serial,\n",
       "div.sk-item {\n",
       "  /* draw centered vertical line to link estimators */\n",
       "  background-image: linear-gradient(var(--sklearn-color-text-on-default-background), var(--sklearn-color-text-on-default-background));\n",
       "  background-size: 2px 100%;\n",
       "  background-repeat: no-repeat;\n",
       "  background-position: center center;\n",
       "}\n",
       "\n",
       "/* Parallel-specific style estimator block */\n",
       "\n",
       "#sk-container-id-3 div.sk-parallel-item::after {\n",
       "  content: \"\";\n",
       "  width: 100%;\n",
       "  border-bottom: 2px solid var(--sklearn-color-text-on-default-background);\n",
       "  flex-grow: 1;\n",
       "}\n",
       "\n",
       "#sk-container-id-3 div.sk-parallel {\n",
       "  display: flex;\n",
       "  align-items: stretch;\n",
       "  justify-content: center;\n",
       "  background-color: var(--sklearn-color-background);\n",
       "  position: relative;\n",
       "}\n",
       "\n",
       "#sk-container-id-3 div.sk-parallel-item {\n",
       "  display: flex;\n",
       "  flex-direction: column;\n",
       "}\n",
       "\n",
       "#sk-container-id-3 div.sk-parallel-item:first-child::after {\n",
       "  align-self: flex-end;\n",
       "  width: 50%;\n",
       "}\n",
       "\n",
       "#sk-container-id-3 div.sk-parallel-item:last-child::after {\n",
       "  align-self: flex-start;\n",
       "  width: 50%;\n",
       "}\n",
       "\n",
       "#sk-container-id-3 div.sk-parallel-item:only-child::after {\n",
       "  width: 0;\n",
       "}\n",
       "\n",
       "/* Serial-specific style estimator block */\n",
       "\n",
       "#sk-container-id-3 div.sk-serial {\n",
       "  display: flex;\n",
       "  flex-direction: column;\n",
       "  align-items: center;\n",
       "  background-color: var(--sklearn-color-background);\n",
       "  padding-right: 1em;\n",
       "  padding-left: 1em;\n",
       "}\n",
       "\n",
       "\n",
       "/* Toggleable style: style used for estimator/Pipeline/ColumnTransformer box that is\n",
       "clickable and can be expanded/collapsed.\n",
       "- Pipeline and ColumnTransformer use this feature and define the default style\n",
       "- Estimators will overwrite some part of the style using the `sk-estimator` class\n",
       "*/\n",
       "\n",
       "/* Pipeline and ColumnTransformer style (default) */\n",
       "\n",
       "#sk-container-id-3 div.sk-toggleable {\n",
       "  /* Default theme specific background. It is overwritten whether we have a\n",
       "  specific estimator or a Pipeline/ColumnTransformer */\n",
       "  background-color: var(--sklearn-color-background);\n",
       "}\n",
       "\n",
       "/* Toggleable label */\n",
       "#sk-container-id-3 label.sk-toggleable__label {\n",
       "  cursor: pointer;\n",
       "  display: block;\n",
       "  width: 100%;\n",
       "  margin-bottom: 0;\n",
       "  padding: 0.5em;\n",
       "  box-sizing: border-box;\n",
       "  text-align: center;\n",
       "}\n",
       "\n",
       "#sk-container-id-3 label.sk-toggleable__label-arrow:before {\n",
       "  /* Arrow on the left of the label */\n",
       "  content: \"▸\";\n",
       "  float: left;\n",
       "  margin-right: 0.25em;\n",
       "  color: var(--sklearn-color-icon);\n",
       "}\n",
       "\n",
       "#sk-container-id-3 label.sk-toggleable__label-arrow:hover:before {\n",
       "  color: var(--sklearn-color-text);\n",
       "}\n",
       "\n",
       "/* Toggleable content - dropdown */\n",
       "\n",
       "#sk-container-id-3 div.sk-toggleable__content {\n",
       "  max-height: 0;\n",
       "  max-width: 0;\n",
       "  overflow: hidden;\n",
       "  text-align: left;\n",
       "  /* unfitted */\n",
       "  background-color: var(--sklearn-color-unfitted-level-0);\n",
       "}\n",
       "\n",
       "#sk-container-id-3 div.sk-toggleable__content.fitted {\n",
       "  /* fitted */\n",
       "  background-color: var(--sklearn-color-fitted-level-0);\n",
       "}\n",
       "\n",
       "#sk-container-id-3 div.sk-toggleable__content pre {\n",
       "  margin: 0.2em;\n",
       "  border-radius: 0.25em;\n",
       "  color: var(--sklearn-color-text);\n",
       "  /* unfitted */\n",
       "  background-color: var(--sklearn-color-unfitted-level-0);\n",
       "}\n",
       "\n",
       "#sk-container-id-3 div.sk-toggleable__content.fitted pre {\n",
       "  /* unfitted */\n",
       "  background-color: var(--sklearn-color-fitted-level-0);\n",
       "}\n",
       "\n",
       "#sk-container-id-3 input.sk-toggleable__control:checked~div.sk-toggleable__content {\n",
       "  /* Expand drop-down */\n",
       "  max-height: 200px;\n",
       "  max-width: 100%;\n",
       "  overflow: auto;\n",
       "}\n",
       "\n",
       "#sk-container-id-3 input.sk-toggleable__control:checked~label.sk-toggleable__label-arrow:before {\n",
       "  content: \"▾\";\n",
       "}\n",
       "\n",
       "/* Pipeline/ColumnTransformer-specific style */\n",
       "\n",
       "#sk-container-id-3 div.sk-label input.sk-toggleable__control:checked~label.sk-toggleable__label {\n",
       "  color: var(--sklearn-color-text);\n",
       "  background-color: var(--sklearn-color-unfitted-level-2);\n",
       "}\n",
       "\n",
       "#sk-container-id-3 div.sk-label.fitted input.sk-toggleable__control:checked~label.sk-toggleable__label {\n",
       "  background-color: var(--sklearn-color-fitted-level-2);\n",
       "}\n",
       "\n",
       "/* Estimator-specific style */\n",
       "\n",
       "/* Colorize estimator box */\n",
       "#sk-container-id-3 div.sk-estimator input.sk-toggleable__control:checked~label.sk-toggleable__label {\n",
       "  /* unfitted */\n",
       "  background-color: var(--sklearn-color-unfitted-level-2);\n",
       "}\n",
       "\n",
       "#sk-container-id-3 div.sk-estimator.fitted input.sk-toggleable__control:checked~label.sk-toggleable__label {\n",
       "  /* fitted */\n",
       "  background-color: var(--sklearn-color-fitted-level-2);\n",
       "}\n",
       "\n",
       "#sk-container-id-3 div.sk-label label.sk-toggleable__label,\n",
       "#sk-container-id-3 div.sk-label label {\n",
       "  /* The background is the default theme color */\n",
       "  color: var(--sklearn-color-text-on-default-background);\n",
       "}\n",
       "\n",
       "/* On hover, darken the color of the background */\n",
       "#sk-container-id-3 div.sk-label:hover label.sk-toggleable__label {\n",
       "  color: var(--sklearn-color-text);\n",
       "  background-color: var(--sklearn-color-unfitted-level-2);\n",
       "}\n",
       "\n",
       "/* Label box, darken color on hover, fitted */\n",
       "#sk-container-id-3 div.sk-label.fitted:hover label.sk-toggleable__label.fitted {\n",
       "  color: var(--sklearn-color-text);\n",
       "  background-color: var(--sklearn-color-fitted-level-2);\n",
       "}\n",
       "\n",
       "/* Estimator label */\n",
       "\n",
       "#sk-container-id-3 div.sk-label label {\n",
       "  font-family: monospace;\n",
       "  font-weight: bold;\n",
       "  display: inline-block;\n",
       "  line-height: 1.2em;\n",
       "}\n",
       "\n",
       "#sk-container-id-3 div.sk-label-container {\n",
       "  text-align: center;\n",
       "}\n",
       "\n",
       "/* Estimator-specific */\n",
       "#sk-container-id-3 div.sk-estimator {\n",
       "  font-family: monospace;\n",
       "  border: 1px dotted var(--sklearn-color-border-box);\n",
       "  border-radius: 0.25em;\n",
       "  box-sizing: border-box;\n",
       "  margin-bottom: 0.5em;\n",
       "  /* unfitted */\n",
       "  background-color: var(--sklearn-color-unfitted-level-0);\n",
       "}\n",
       "\n",
       "#sk-container-id-3 div.sk-estimator.fitted {\n",
       "  /* fitted */\n",
       "  background-color: var(--sklearn-color-fitted-level-0);\n",
       "}\n",
       "\n",
       "/* on hover */\n",
       "#sk-container-id-3 div.sk-estimator:hover {\n",
       "  /* unfitted */\n",
       "  background-color: var(--sklearn-color-unfitted-level-2);\n",
       "}\n",
       "\n",
       "#sk-container-id-3 div.sk-estimator.fitted:hover {\n",
       "  /* fitted */\n",
       "  background-color: var(--sklearn-color-fitted-level-2);\n",
       "}\n",
       "\n",
       "/* Specification for estimator info (e.g. \"i\" and \"?\") */\n",
       "\n",
       "/* Common style for \"i\" and \"?\" */\n",
       "\n",
       ".sk-estimator-doc-link,\n",
       "a:link.sk-estimator-doc-link,\n",
       "a:visited.sk-estimator-doc-link {\n",
       "  float: right;\n",
       "  font-size: smaller;\n",
       "  line-height: 1em;\n",
       "  font-family: monospace;\n",
       "  background-color: var(--sklearn-color-background);\n",
       "  border-radius: 1em;\n",
       "  height: 1em;\n",
       "  width: 1em;\n",
       "  text-decoration: none !important;\n",
       "  margin-left: 1ex;\n",
       "  /* unfitted */\n",
       "  border: var(--sklearn-color-unfitted-level-1) 1pt solid;\n",
       "  color: var(--sklearn-color-unfitted-level-1);\n",
       "}\n",
       "\n",
       ".sk-estimator-doc-link.fitted,\n",
       "a:link.sk-estimator-doc-link.fitted,\n",
       "a:visited.sk-estimator-doc-link.fitted {\n",
       "  /* fitted */\n",
       "  border: var(--sklearn-color-fitted-level-1) 1pt solid;\n",
       "  color: var(--sklearn-color-fitted-level-1);\n",
       "}\n",
       "\n",
       "/* On hover */\n",
       "div.sk-estimator:hover .sk-estimator-doc-link:hover,\n",
       ".sk-estimator-doc-link:hover,\n",
       "div.sk-label-container:hover .sk-estimator-doc-link:hover,\n",
       ".sk-estimator-doc-link:hover {\n",
       "  /* unfitted */\n",
       "  background-color: var(--sklearn-color-unfitted-level-3);\n",
       "  color: var(--sklearn-color-background);\n",
       "  text-decoration: none;\n",
       "}\n",
       "\n",
       "div.sk-estimator.fitted:hover .sk-estimator-doc-link.fitted:hover,\n",
       ".sk-estimator-doc-link.fitted:hover,\n",
       "div.sk-label-container:hover .sk-estimator-doc-link.fitted:hover,\n",
       ".sk-estimator-doc-link.fitted:hover {\n",
       "  /* fitted */\n",
       "  background-color: var(--sklearn-color-fitted-level-3);\n",
       "  color: var(--sklearn-color-background);\n",
       "  text-decoration: none;\n",
       "}\n",
       "\n",
       "/* Span, style for the box shown on hovering the info icon */\n",
       ".sk-estimator-doc-link span {\n",
       "  display: none;\n",
       "  z-index: 9999;\n",
       "  position: relative;\n",
       "  font-weight: normal;\n",
       "  right: .2ex;\n",
       "  padding: .5ex;\n",
       "  margin: .5ex;\n",
       "  width: min-content;\n",
       "  min-width: 20ex;\n",
       "  max-width: 50ex;\n",
       "  color: var(--sklearn-color-text);\n",
       "  box-shadow: 2pt 2pt 4pt #999;\n",
       "  /* unfitted */\n",
       "  background: var(--sklearn-color-unfitted-level-0);\n",
       "  border: .5pt solid var(--sklearn-color-unfitted-level-3);\n",
       "}\n",
       "\n",
       ".sk-estimator-doc-link.fitted span {\n",
       "  /* fitted */\n",
       "  background: var(--sklearn-color-fitted-level-0);\n",
       "  border: var(--sklearn-color-fitted-level-3);\n",
       "}\n",
       "\n",
       ".sk-estimator-doc-link:hover span {\n",
       "  display: block;\n",
       "}\n",
       "\n",
       "/* \"?\"-specific style due to the `<a>` HTML tag */\n",
       "\n",
       "#sk-container-id-3 a.estimator_doc_link {\n",
       "  float: right;\n",
       "  font-size: 1rem;\n",
       "  line-height: 1em;\n",
       "  font-family: monospace;\n",
       "  background-color: var(--sklearn-color-background);\n",
       "  border-radius: 1rem;\n",
       "  height: 1rem;\n",
       "  width: 1rem;\n",
       "  text-decoration: none;\n",
       "  /* unfitted */\n",
       "  color: var(--sklearn-color-unfitted-level-1);\n",
       "  border: var(--sklearn-color-unfitted-level-1) 1pt solid;\n",
       "}\n",
       "\n",
       "#sk-container-id-3 a.estimator_doc_link.fitted {\n",
       "  /* fitted */\n",
       "  border: var(--sklearn-color-fitted-level-1) 1pt solid;\n",
       "  color: var(--sklearn-color-fitted-level-1);\n",
       "}\n",
       "\n",
       "/* On hover */\n",
       "#sk-container-id-3 a.estimator_doc_link:hover {\n",
       "  /* unfitted */\n",
       "  background-color: var(--sklearn-color-unfitted-level-3);\n",
       "  color: var(--sklearn-color-background);\n",
       "  text-decoration: none;\n",
       "}\n",
       "\n",
       "#sk-container-id-3 a.estimator_doc_link.fitted:hover {\n",
       "  /* fitted */\n",
       "  background-color: var(--sklearn-color-fitted-level-3);\n",
       "}\n",
       "</style><div id=\"sk-container-id-3\" class=\"sk-top-container\"><div class=\"sk-text-repr-fallback\"><pre>XGBClassifier(base_score=None, booster=None, callbacks=None,\n",
       "              colsample_bylevel=None, colsample_bynode=None,\n",
       "              colsample_bytree=None, device=None, early_stopping_rounds=None,\n",
       "              enable_categorical=False, eval_metric=None, feature_types=None,\n",
       "              gamma=None, grow_policy=None, importance_type=None,\n",
       "              interaction_constraints=None, learning_rate=None, max_bin=None,\n",
       "              max_cat_threshold=None, max_cat_to_onehot=None,\n",
       "              max_delta_step=None, max_depth=None, max_leaves=None,\n",
       "              min_child_weight=None, missing=nan, monotone_constraints=None,\n",
       "              multi_strategy=None, n_estimators=100, n_jobs=None,\n",
       "              num_parallel_tree=None, objective=&#x27;multi:softprob&#x27;, ...)</pre><b>In a Jupyter environment, please rerun this cell to show the HTML representation or trust the notebook. <br />On GitHub, the HTML representation is unable to render, please try loading this page with nbviewer.org.</b></div><div class=\"sk-container\" hidden><div class=\"sk-item\"><div class=\"sk-estimator fitted sk-toggleable\"><input class=\"sk-toggleable__control sk-hidden--visually\" id=\"sk-estimator-id-3\" type=\"checkbox\" checked><label for=\"sk-estimator-id-3\" class=\"sk-toggleable__label fitted sk-toggleable__label-arrow fitted\">&nbsp;XGBClassifier<span class=\"sk-estimator-doc-link fitted\">i<span>Fitted</span></span></label><div class=\"sk-toggleable__content fitted\"><pre>XGBClassifier(base_score=None, booster=None, callbacks=None,\n",
       "              colsample_bylevel=None, colsample_bynode=None,\n",
       "              colsample_bytree=None, device=None, early_stopping_rounds=None,\n",
       "              enable_categorical=False, eval_metric=None, feature_types=None,\n",
       "              gamma=None, grow_policy=None, importance_type=None,\n",
       "              interaction_constraints=None, learning_rate=None, max_bin=None,\n",
       "              max_cat_threshold=None, max_cat_to_onehot=None,\n",
       "              max_delta_step=None, max_depth=None, max_leaves=None,\n",
       "              min_child_weight=None, missing=nan, monotone_constraints=None,\n",
       "              multi_strategy=None, n_estimators=100, n_jobs=None,\n",
       "              num_parallel_tree=None, objective=&#x27;multi:softprob&#x27;, ...)</pre></div> </div></div></div></div>"
      ],
      "text/plain": [
       "XGBClassifier(base_score=None, booster=None, callbacks=None,\n",
       "              colsample_bylevel=None, colsample_bynode=None,\n",
       "              colsample_bytree=None, device=None, early_stopping_rounds=None,\n",
       "              enable_categorical=False, eval_metric=None, feature_types=None,\n",
       "              gamma=None, grow_policy=None, importance_type=None,\n",
       "              interaction_constraints=None, learning_rate=None, max_bin=None,\n",
       "              max_cat_threshold=None, max_cat_to_onehot=None,\n",
       "              max_delta_step=None, max_depth=None, max_leaves=None,\n",
       "              min_child_weight=None, missing=nan, monotone_constraints=None,\n",
       "              multi_strategy=None, n_estimators=100, n_jobs=None,\n",
       "              num_parallel_tree=None, objective='multi:softprob', ...)"
      ]
     },
     "execution_count": 81,
     "metadata": {},
     "output_type": "execute_result"
    }
   ],
   "source": [
    "# XGBoost 모델 정의\n",
    "model = XGBClassifier(n_estimators=100, random_state=42)\n",
    "model.fit(X_train, y_train)"
   ]
  },
  {
   "cell_type": "code",
   "execution_count": 82,
   "metadata": {},
   "outputs": [
    {
     "name": "stdout",
     "output_type": "stream",
     "text": [
      "모델이 parking_congestion_model_xgb.pkl 파일로 저장되었습니다.\n"
     ]
    }
   ],
   "source": [
    "# 모델 저장\n",
    "model_filename = 'parking_congestion_model_xgb.pkl'\n",
    "joblib.dump(model, model_filename)\n",
    "print(f\"모델이 {model_filename} 파일로 저장되었습니다.\")"
   ]
  },
  {
   "cell_type": "code",
   "execution_count": 83,
   "metadata": {},
   "outputs": [],
   "source": [
    "# 인코더와 스케일러 정보 JSON으로 저장\n",
    "# OneHotEncoder 정보 저장\n",
    "encoder_info = {\n",
    "    'categories': [list(cat) for cat in onehot.named_transformers_['parking_name'].categories_] +\n",
    "                  [list(cat) for cat in onehot.named_transformers_['weekday'].categories_]\n",
    "}"
   ]
  },
  {
   "cell_type": "code",
   "execution_count": 84,
   "metadata": {},
   "outputs": [],
   "source": [
    "# MinMaxScaler 정보 저장\n",
    "scaler_info = {\n",
    "    'min': scaler.data_min_.tolist(),\n",
    "    'max': scaler.data_max_.tolist()\n",
    "}"
   ]
  },
  {
   "cell_type": "code",
   "execution_count": 85,
   "metadata": {},
   "outputs": [
    {
     "name": "stdout",
     "output_type": "stream",
     "text": [
      "OneHotEncoder와 MinMaxScaler 정보가 JSON 파일로 저장되었습니다.\n"
     ]
    }
   ],
   "source": [
    "# JSON 파일로 저장\n",
    "with open('onehot_encoder_info.json', 'w') as f:\n",
    "    json.dump(encoder_info, f)\n",
    "\n",
    "with open('scaler_info.json', 'w') as f:\n",
    "    json.dump(scaler_info, f)\n",
    "\n",
    "print(\"OneHotEncoder와 MinMaxScaler 정보가 JSON 파일로 저장되었습니다.\")"
   ]
  },
  {
   "cell_type": "code",
   "execution_count": 86,
   "metadata": {},
   "outputs": [
    {
     "name": "stdout",
     "output_type": "stream",
     "text": [
      "모델이 성공적으로 불러와졌습니다.\n"
     ]
    }
   ],
   "source": [
    "# 모델 불러오기\n",
    "loaded_model = joblib.load(model_filename)\n",
    "print(\"모델이 성공적으로 불러와졌습니다.\")"
   ]
  },
  {
   "cell_type": "code",
   "execution_count": 87,
   "metadata": {},
   "outputs": [],
   "source": [
    "# 5. 예측 (불러온 모델로 예측)\n",
    "predictions = loaded_model.predict(X_test)"
   ]
  },
  {
   "cell_type": "code",
   "execution_count": 88,
   "metadata": {},
   "outputs": [
    {
     "name": "stdout",
     "output_type": "stream",
     "text": [
      "정확도: 0.8250\n"
     ]
    }
   ],
   "source": [
    "# 예측 결과 확인\n",
    "accuracy = accuracy_score(y_test, predictions)\n",
    "print(f'정확도: {accuracy:.4f}')"
   ]
  },
  {
   "cell_type": "code",
   "execution_count": 89,
   "metadata": {},
   "outputs": [
    {
     "name": "stdout",
     "output_type": "stream",
     "text": [
      "              precision    recall  f1-score   support\n",
      "\n",
      "          여유       0.84      0.93      0.88     55925\n",
      "          보통       0.81      0.77      0.79     43908\n",
      "          혼잡       0.81      0.67      0.73     20939\n",
      "\n",
      "    accuracy                           0.83    120772\n",
      "   macro avg       0.82      0.79      0.80    120772\n",
      "weighted avg       0.82      0.83      0.82    120772\n",
      "\n"
     ]
    }
   ],
   "source": [
    "# 상세한 성능 평가\n",
    "print(classification_report(y_test, predictions, target_names=['여유', '보통', '혼잡']))"
   ]
  },
  {
   "cell_type": "code",
   "execution_count": 90,
   "metadata": {},
   "outputs": [],
   "source": [
    "# 6. 특정 시간대 예측 함수\n",
    "def get_similar_time_data(data, parking_name, weekday, hour):\n",
    "    # 같은 주차장, 같은 요일, 유사한 시간대(예: ±1시간)에 해당하는 데이터를 필터링\n",
    "    similar_data = data[\n",
    "        (data['PKLT_NM'] == parking_name) &\n",
    "        (data['weekday'] == weekday) &\n",
    "        (abs(data['hour'] - hour) <= 1)  # 시간대 ±1시간 필터링\n",
    "    ]\n",
    "    return similar_data"
   ]
  },
  {
   "cell_type": "code",
   "execution_count": 91,
   "metadata": {},
   "outputs": [],
   "source": [
    "# 예측 함수 수정\n",
    "def predict_congestion_with_similar_data(parking_name, weekday, hour, minute):\n",
    "    try:\n",
    "        # 주차장명, 요일, 시간에 해당하는 유사 데이터 추출\n",
    "        similar_data = get_similar_time_data(data, parking_name, weekday, hour)\n",
    "\n",
    "        if similar_data.empty:\n",
    "            raise ValueError(\"해당 시간대에 유사한 데이터가 없습니다.\")\n",
    "\n",
    "        # 입력 데이터를 One-Hot Encoding 및 정규화\n",
    "        input_encoded = onehot.transform(similar_data[features]).toarray()\n",
    "        input_scaled = scaler.transform(input_encoded)\n",
    "\n",
    "        # 예측 수행 (불러온 모델 사용)\n",
    "        predicted_class = loaded_model.predict(input_scaled)\n",
    "\n",
    "        return predicted_class[0]\n",
    "    except Exception as e:\n",
    "        print(f\"예측 과정에서 오류 발생: {e}\")\n",
    "        return None"
   ]
  },
  {
   "cell_type": "code",
   "execution_count": 92,
   "metadata": {},
   "outputs": [],
   "source": [
    "# # 예시 입력으로 혼잡도 예측\n",
    "# parking_name = \"구로디지털단지역 공영주차장(시)\"\n",
    "# weekday = 'Monday'  # 수요일\n",
    "# hour = 1\n",
    "# minute = 37"
   ]
  },
  {
   "cell_type": "code",
   "execution_count": 93,
   "metadata": {},
   "outputs": [],
   "source": [
    "# 예시 입력으로 혼잡도 예측\n",
    "parking_name = \"세종로 공영주차장(시)\"\n",
    "weekday = 'Monday'  # 수요일\n",
    "hour = 5\n",
    "minute = 34"
   ]
  },
  {
   "cell_type": "code",
   "execution_count": 94,
   "metadata": {},
   "outputs": [
    {
     "name": "stdout",
     "output_type": "stream",
     "text": [
      "예측된 혼잡도: 여유\n"
     ]
    }
   ],
   "source": [
    "predicted_level = predict_congestion_with_similar_data(parking_name, weekday, hour, minute)\n",
    "congestion_mapping = {0: '여유', 1: '보통', 2: '혼잡'}\n",
    "if predicted_level is not None:\n",
    "    print(f\"예측된 혼잡도: {congestion_mapping[predicted_level]}\")"
   ]
  },
  {
   "cell_type": "code",
   "execution_count": 95,
   "metadata": {},
   "outputs": [],
   "source": [
    "# ONNX 변환 부분\n",
    "# 기존 학습된 모델 (loaded_model)로 변환\n",
    "booster = loaded_model.get_booster()"
   ]
  },
  {
   "cell_type": "code",
   "execution_count": 96,
   "metadata": {},
   "outputs": [],
   "source": [
    "# 모델을 ONNX로 변환\n",
    "initial_type = [('float_input', FloatTensorType([None, X_train.shape[1]]))]\n",
    "onnx_model = onnxmltools.convert_xgboost(booster, initial_types=initial_type)"
   ]
  },
  {
   "cell_type": "code",
   "execution_count": 97,
   "metadata": {},
   "outputs": [
    {
     "name": "stdout",
     "output_type": "stream",
     "text": [
      "ONNX 모델이 xgboost_model_with_onehot.onnx 파일로 저장되었습니다.\n"
     ]
    }
   ],
   "source": [
    "# ONNX 모델 저장\n",
    "onnx_model_path = \"xgboost_model_with_onehot.onnx\"\n",
    "with open(onnx_model_path, \"wb\") as f:\n",
    "    f.write(onnx_model.SerializeToString())\n",
    "\n",
    "print(f\"ONNX 모델이 {onnx_model_path} 파일로 저장되었습니다.\")\n"
   ]
  },
  {
   "cell_type": "code",
   "execution_count": 98,
   "metadata": {},
   "outputs": [
    {
     "name": "stdout",
     "output_type": "stream",
     "text": [
      "정확도: 0.8263\n",
      "              precision    recall  f1-score   support\n",
      "\n",
      "          여유       0.84      0.93      0.88     55802\n",
      "          보통       0.81      0.77      0.79     44071\n",
      "          혼잡       0.81      0.67      0.73     20899\n",
      "\n",
      "    accuracy                           0.83    120772\n",
      "   macro avg       0.82      0.79      0.80    120772\n",
      "weighted avg       0.82      0.83      0.82    120772\n",
      "\n"
     ]
    }
   ],
   "source": [
    "import onnxruntime as rt\n",
    "import numpy as np\n",
    "from sklearn.metrics import accuracy_score, classification_report\n",
    "\n",
    "# ONNX 모델 로드\n",
    "onnx_model_path = \"xgboost_model_with_onehot.onnx\"\n",
    "sess = rt.InferenceSession(onnx_model_path)\n",
    "\n",
    "# JSON으로 저장된 OneHotEncoder 및 MinMaxScaler 정보 로드\n",
    "with open('onehot_encoder_info.json', 'r') as f:\n",
    "    encoder_info = json.load(f)\n",
    "\n",
    "with open('scaler_info.json', 'r') as f:\n",
    "    scaler_info = json.load(f)\n",
    "\n",
    "# 정규화 함수 (MinMaxScaler와 동일하게 적용)\n",
    "def apply_scaler(input_data, scaler_info):\n",
    "    min_val = np.array(scaler_info['min'])\n",
    "    max_val = np.array(scaler_info['max'])\n",
    "    return (input_data - min_val) / (max_val - min_val)\n",
    "\n",
    "# 입력 데이터 전처리 함수\n",
    "def preprocess_input(parking_name, weekday, hour, minute):\n",
    "    # 주차장명과 요일을 원핫인코딩\n",
    "    parking_names = encoder_info['categories'][0]\n",
    "    weekdays = encoder_info['categories'][1]\n",
    "    \n",
    "    parking_onehot = [1 if parking_name == name else 0 for name in parking_names]\n",
    "    weekday_onehot = [1 if weekday == day else 0 for day in weekdays]\n",
    "    \n",
    "    # 시간 및 분 추가\n",
    "    input_data = parking_onehot + weekday_onehot + [hour, minute]\n",
    "    \n",
    "    # 입력 데이터를 정규화\n",
    "    input_scaled = apply_scaler(np.array(input_data), scaler_info)\n",
    "    \n",
    "    return input_scaled.reshape(1, -1)  # 모델 입력에 맞는 형태로 변환\n",
    "\n",
    "# ONNX 모델을 사용하여 예측 수행\n",
    "def predict_congestion_onnx(parking_name, weekday, hour, minute):\n",
    "    # 입력 데이터를 전처리\n",
    "    input_data = preprocess_input(parking_name, weekday, hour, minute)\n",
    "    \n",
    "    # ONNX 모델에 입력 데이터를 넣어 예측 수행\n",
    "    input_name = sess.get_inputs()[0].name\n",
    "    prediction = sess.run(None, {input_name: input_data.astype(np.float32)})\n",
    "    \n",
    "    return prediction[0][0]  # 예측 결과 반환 (혼잡도 클래스)\n",
    "\n",
    "# 테스트 데이터 전체에 대해 예측을 수행하고 정확도를 평가하는 함수\n",
    "def evaluate_model_onnx(test_data, original_data):\n",
    "    predictions = []\n",
    "    actuals = []\n",
    "    \n",
    "    for index, row in test_data.iterrows():\n",
    "        parking_name = row['PKLT_NM']\n",
    "        weekday = row['weekday']\n",
    "        hour = row['hour']\n",
    "        minute = row['minute']\n",
    "        actual = row['congestion']  # 실제 레이블 (혼잡도)\n",
    "        \n",
    "        predicted = predict_congestion_onnx(parking_name, weekday, hour, minute)\n",
    "        predictions.append(predicted)\n",
    "        actuals.append(actual)\n",
    "    \n",
    "    # 정확도 계산\n",
    "    accuracy = accuracy_score(actuals, predictions)\n",
    "    print(f'정확도: {accuracy:.4f}')\n",
    "    \n",
    "    # 상세한 성능 평가\n",
    "    print(classification_report(actuals, predictions, target_names=['여유', '보통', '혼잡']))\n",
    "\n",
    "# Train/Test Split, 인덱스 정보 추가\n",
    "X_train, X_test, y_train, y_test, train_indices, test_indices = train_test_split(X, y, data.index, test_size=0.2, shuffle=True)\n",
    "\n",
    "# 테스트 데이터에 대한 평가 수행\n",
    "evaluate_model_onnx(data.iloc[test_indices], data)"
   ]
  },
  {
   "cell_type": "code",
   "execution_count": 104,
   "metadata": {},
   "outputs": [
    {
     "data": {
      "image/png": "[encoded data removed]",
      "text/plain": [
       "<Figure size 432x288 with 1 Axes>"
      ]
     },
     "metadata": {
      "needs_background": "light"
     },
     "output_type": "display_data"
    }
   ],
   "source": [
    "import matplotlib.pyplot as plt\n",
    "\n",
    "# 혼잡도 레이블의 분포 시각화 (0 -> '여유', 1 -> '보통', 2 -> '혼잡')\n",
    "congestion_labels = {0: '여유', 1: '보통', 2: '혼잡'}\n",
    "congestion_counts = data['congestion'].value_counts().sort_index()  # sort_index()로 0, 1, 2 순서로 정렬\n",
    "\n",
    "# 막대그래프 그리기\n",
    "congestion_counts.plot(kind='bar', color=['green', 'yellow', 'red'])\n",
    "\n",
    "# x축 레이블을 '여유', '보통', '혼잡'으로 변경\n",
    "plt.xticks(ticks=range(len(congestion_counts)), labels=[congestion_labels[idx] for idx in congestion_counts.index])\n",
    "\n",
    "plt.title('Congestion Label Distribution (여유, 보통, 혼잡)')\n",
    "plt.xlabel('Congestion Level')\n",
    "plt.ylabel('Count')\n",
    "plt.show()"
   ]
  },
  {
   "cell_type": "code",
   "execution_count": 100,
   "metadata": {},
   "outputs": [
    {
     "name": "stdout",
     "output_type": "stream",
     "text": [
      "정확도: 0.8270\n",
      "              precision    recall  f1-score   support\n",
      "\n",
      "          여유       0.85      0.93      0.88     55910\n",
      "          보통       0.81      0.77      0.79     44091\n",
      "          혼잡       0.81      0.67      0.73     20771\n",
      "\n",
      "    accuracy                           0.83    120772\n",
      "   macro avg       0.82      0.79      0.80    120772\n",
      "weighted avg       0.83      0.83      0.82    120772\n",
      "\n"
     ]
    }
   ],
   "source": [
    "import onnxruntime as rt\n",
    "import numpy as np\n",
    "from sklearn.metrics import accuracy_score, classification_report\n",
    "\n",
    "# ONNX 모델 로드\n",
    "onnx_model_path = \"xgboost_model_with_onehot.onnx\"\n",
    "sess = rt.InferenceSession(onnx_model_path)\n",
    "\n",
    "# JSON으로 저장된 OneHotEncoder 및 MinMaxScaler 정보 로드\n",
    "with open('onehot_encoder_info.json', 'r') as f:\n",
    "    encoder_info = json.load(f)\n",
    "\n",
    "with open('scaler_info.json', 'r') as f:\n",
    "    scaler_info = json.load(f)\n",
    "\n",
    "# 정규화 함수 (MinMaxScaler와 동일하게 적용)\n",
    "def apply_scaler(input_data, scaler_info):\n",
    "    min_val = np.array(scaler_info['min'])\n",
    "    max_val = np.array(scaler_info['max'])\n",
    "    return (input_data - min_val) / (max_val - min_val)\n",
    "\n",
    "# 입력 데이터 전처리 함수\n",
    "def preprocess_input(parking_name, weekday, hour, minute):\n",
    "    # 주차장명과 요일을 원핫인코딩\n",
    "    parking_names = encoder_info['categories'][0]\n",
    "    weekdays = encoder_info['categories'][1]\n",
    "    \n",
    "    parking_onehot = [1 if parking_name == name else 0 for name in parking_names]\n",
    "    weekday_onehot = [1 if weekday == day else 0 for day in weekdays]\n",
    "    \n",
    "    # 시간 및 분 추가\n",
    "    input_data = parking_onehot + weekday_onehot + [hour, minute]\n",
    "    \n",
    "    # 입력 데이터를 정규화\n",
    "    input_scaled = apply_scaler(np.array(input_data), scaler_info)\n",
    "    \n",
    "    return input_scaled.reshape(1, -1)  # 모델 입력에 맞는 형태로 변환\n",
    "\n",
    "# ONNX 모델을 사용하여 예측 수행\n",
    "def predict_congestion_onnx(parking_name, weekday, hour, minute):\n",
    "    # 입력 데이터를 전처리\n",
    "    input_data = preprocess_input(parking_name, weekday, hour, minute)\n",
    "    \n",
    "    # ONNX 모델에 입력 데이터를 넣어 예측 수행\n",
    "    input_name = sess.get_inputs()[0].name\n",
    "    prediction = sess.run(None, {input_name: input_data.astype(np.float32)})\n",
    "    \n",
    "    return prediction[0][0]  # 예측 결과 반환 (혼잡도 클래스)\n",
    "\n",
    "# 테스트 데이터 전체에 대해 예측을 수행하고 정확도를 평가하는 함수\n",
    "def evaluate_model_onnx(test_data, original_data):\n",
    "    predictions = []\n",
    "    actuals = []\n",
    "    \n",
    "    for index, row in test_data.iterrows():\n",
    "        parking_name = row['PKLT_NM']\n",
    "        weekday = row['weekday']\n",
    "        hour = row['hour']\n",
    "        minute = row['minute']\n",
    "        actual = row['congestion']  # 실제 레이블 (혼잡도)\n",
    "        \n",
    "        predicted = predict_congestion_onnx(parking_name, weekday, hour, minute)\n",
    "        predictions.append(predicted)\n",
    "        actuals.append(actual)\n",
    "    \n",
    "    # 정확도 계산\n",
    "    accuracy = accuracy_score(actuals, predictions)\n",
    "    print(f'정확도: {accuracy:.4f}')\n",
    "    \n",
    "    # 상세한 성능 평가\n",
    "    print(classification_report(actuals, predictions, target_names=['여유', '보통', '혼잡']))\n",
    "\n",
    "# Train/Test Split, 인덱스 정보 추가\n",
    "X_train, X_test, y_train, y_test, train_indices, test_indices = train_test_split(X, y, data.index, test_size=0.2, shuffle=True)\n",
    "\n",
    "# 테스트 데이터에 대한 평가 수행\n",
    "evaluate_model_onnx(data.iloc[test_indices], data)"
   ]
  },
  {
   "cell_type": "code",
   "execution_count": 101,
   "metadata": {},
   "outputs": [
    {
     "name": "stderr",
     "output_type": "stream",
     "text": [
      "c:\\ProgramData\\Anaconda3\\lib\\site-packages\\matplotlib\\backends\\backend_agg.py:240: RuntimeWarning: Glyph 50668 missing from current font.\n",
      "  font.set_text(s, 0.0, flags=flags)\n",
      "c:\\ProgramData\\Anaconda3\\lib\\site-packages\\matplotlib\\backends\\backend_agg.py:240: RuntimeWarning: Glyph 50976 missing from current font.\n",
      "  font.set_text(s, 0.0, flags=flags)\n",
      "c:\\ProgramData\\Anaconda3\\lib\\site-packages\\matplotlib\\backends\\backend_agg.py:240: RuntimeWarning: Glyph 48372 missing from current font.\n",
      "  font.set_text(s, 0.0, flags=flags)\n",
      "c:\\ProgramData\\Anaconda3\\lib\\site-packages\\matplotlib\\backends\\backend_agg.py:240: RuntimeWarning: Glyph 53685 missing from current font.\n",
      "  font.set_text(s, 0.0, flags=flags)\n",
      "c:\\ProgramData\\Anaconda3\\lib\\site-packages\\matplotlib\\backends\\backend_agg.py:240: RuntimeWarning: Glyph 54844 missing from current font.\n",
      "  font.set_text(s, 0.0, flags=flags)\n",
      "c:\\ProgramData\\Anaconda3\\lib\\site-packages\\matplotlib\\backends\\backend_agg.py:240: RuntimeWarning: Glyph 51105 missing from current font.\n",
      "  font.set_text(s, 0.0, flags=flags)\n",
      "c:\\ProgramData\\Anaconda3\\lib\\site-packages\\matplotlib\\backends\\backend_agg.py:203: RuntimeWarning: Glyph 50668 missing from current font.\n",
      "  font.set_text(s, 0, flags=flags)\n",
      "c:\\ProgramData\\Anaconda3\\lib\\site-packages\\matplotlib\\backends\\backend_agg.py:203: RuntimeWarning: Glyph 50976 missing from current font.\n",
      "  font.set_text(s, 0, flags=flags)\n",
      "c:\\ProgramData\\Anaconda3\\lib\\site-packages\\matplotlib\\backends\\backend_agg.py:203: RuntimeWarning: Glyph 48372 missing from current font.\n",
      "  font.set_text(s, 0, flags=flags)\n",
      "c:\\ProgramData\\Anaconda3\\lib\\site-packages\\matplotlib\\backends\\backend_agg.py:203: RuntimeWarning: Glyph 53685 missing from current font.\n",
      "  font.set_text(s, 0, flags=flags)\n",
      "c:\\ProgramData\\Anaconda3\\lib\\site-packages\\matplotlib\\backends\\backend_agg.py:203: RuntimeWarning: Glyph 54844 missing from current font.\n",
      "  font.set_text(s, 0, flags=flags)\n",
      "c:\\ProgramData\\Anaconda3\\lib\\site-packages\\matplotlib\\backends\\backend_agg.py:203: RuntimeWarning: Glyph 51105 missing from current font.\n",
      "  font.set_text(s, 0, flags=flags)\n"
     ]
    },
    {
     "data": {
      "image/png": "[encoded data removed]",
      "text/plain": [
       "<Figure size 576x432 with 2 Axes>"
      ]
     },
     "metadata": {
      "needs_background": "light"
     },
     "output_type": "display_data"
    }
   ],
   "source": [
    "from sklearn.metrics import confusion_matrix\n",
    "import seaborn as sns\n",
    "\n",
    "# 혼동 행렬 계산\n",
    "cm = confusion_matrix(y_test, predictions)\n",
    "\n",
    "# 혼동 행렬 시각화\n",
    "plt.figure(figsize=(8, 6))\n",
    "sns.heatmap(cm, annot=True, fmt='d', cmap='Blues', xticklabels=['여유', '보통', '혼잡'], yticklabels=['여유', '보통', '혼잡'])\n",
    "plt.title('Confusion Matrix')\n",
    "plt.xlabel('Predicted')\n",
    "plt.ylabel('Actual')\n",
    "plt.show()"
   ]
  },
  {
   "cell_type": "code",
   "execution_count": 102,
   "metadata": {},
   "outputs": [
    {
     "data": {
      "image/png": "[encoded data removed]",
      "text/plain": [
       "<Figure size 576x432 with 2 Axes>"
      ]
     },
     "metadata": {
      "needs_background": "light"
     },
     "output_type": "display_data"
    }
   ],
   "source": [
    "import matplotlib.pyplot as plt\n",
    "import seaborn as sns\n",
    "from sklearn.metrics import confusion_matrix\n",
    "from matplotlib import font_manager, rc\n",
    "\n",
    "# 한글 폰트 설정\n",
    "font_path = 'C:/Windows/Fonts/malgun.ttf'  # Windows의 경우 맑은 고딕 폰트 경로\n",
    "font_name = font_manager.FontProperties(fname=font_path).get_name()\n",
    "rc('font', family=font_name)\n",
    "\n",
    "# 혼동 행렬 시각화 예시\n",
    "cm = confusion_matrix(y_test, predictions)\n",
    "\n",
    "plt.figure(figsize=(8, 6))\n",
    "sns.heatmap(cm, annot=True, fmt='d', cmap='Blues', xticklabels=['여유', '보통', '혼잡'], yticklabels=['여유', '보통', '혼잡'])\n",
    "plt.title('혼동 행렬')\n",
    "plt.xlabel('예측된 값')\n",
    "plt.ylabel('실제 값')\n",
    "plt.show()"
   ]
  },
  {
   "cell_type": "code",
   "execution_count": null,
   "metadata": {},
   "outputs": [],
   "source": []
  }
 ],
 "metadata": {
  "kernelspec": {
   "display_name": "base",
   "language": "python",
   "name": "python3"
  },
  "language_info": {
   "codemirror_mode": {
    "name": "ipython",
    "version": 3
   },
   "file_extension": ".py",
   "mimetype": "text/x-python",
   "name": "python",
   "nbconvert_exporter": "python",
   "pygments_lexer": "ipython3",
   "version": "3.9.7"
  }
 },
 "nbformat": 4,
 "nbformat_minor": 2
}
